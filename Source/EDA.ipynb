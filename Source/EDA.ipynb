{
 "cells": [
  {
   "cell_type": "code",
   "execution_count": 11,
   "metadata": {},
   "outputs": [
    {
     "data": {
      "text/html": [
       "<div>\n",
       "<style scoped>\n",
       "    .dataframe tbody tr th:only-of-type {\n",
       "        vertical-align: middle;\n",
       "    }\n",
       "\n",
       "    .dataframe tbody tr th {\n",
       "        vertical-align: top;\n",
       "    }\n",
       "\n",
       "    .dataframe thead th {\n",
       "        text-align: right;\n",
       "    }\n",
       "</style>\n",
       "<table border=\"1\" class=\"dataframe\">\n",
       "  <thead>\n",
       "    <tr style=\"text-align: right;\">\n",
       "      <th></th>\n",
       "      <th>id</th>\n",
       "      <th>game</th>\n",
       "      <th>review</th>\n",
       "      <th>author_playtime_at_review</th>\n",
       "      <th>voted_up</th>\n",
       "      <th>votes_up</th>\n",
       "      <th>votes_funny</th>\n",
       "      <th>constructive</th>\n",
       "    </tr>\n",
       "  </thead>\n",
       "  <tbody>\n",
       "    <tr>\n",
       "      <th>0</th>\n",
       "      <td>1</td>\n",
       "      <td>Among Us</td>\n",
       "      <td>This game can suck my balls before I play it a...</td>\n",
       "      <td>6</td>\n",
       "      <td>False</td>\n",
       "      <td>1</td>\n",
       "      <td>0</td>\n",
       "      <td>0</td>\n",
       "    </tr>\n",
       "    <tr>\n",
       "      <th>1</th>\n",
       "      <td>2</td>\n",
       "      <td>Among Us</td>\n",
       "      <td>Very fun little party game! Even better with f...</td>\n",
       "      <td>11</td>\n",
       "      <td>True</td>\n",
       "      <td>0</td>\n",
       "      <td>0</td>\n",
       "      <td>1</td>\n",
       "    </tr>\n",
       "    <tr>\n",
       "      <th>2</th>\n",
       "      <td>3</td>\n",
       "      <td>Among Us</td>\n",
       "      <td>if you're lonely don't bother but if you're no...</td>\n",
       "      <td>40</td>\n",
       "      <td>True</td>\n",
       "      <td>2</td>\n",
       "      <td>1</td>\n",
       "      <td>0</td>\n",
       "    </tr>\n",
       "    <tr>\n",
       "      <th>3</th>\n",
       "      <td>4</td>\n",
       "      <td>Among Us</td>\n",
       "      <td>fun and anoyying</td>\n",
       "      <td>80</td>\n",
       "      <td>True</td>\n",
       "      <td>0</td>\n",
       "      <td>0</td>\n",
       "      <td>0</td>\n",
       "    </tr>\n",
       "    <tr>\n",
       "      <th>4</th>\n",
       "      <td>5</td>\n",
       "      <td>Among Us</td>\n",
       "      <td>when impostor is sus...</td>\n",
       "      <td>51</td>\n",
       "      <td>True</td>\n",
       "      <td>0</td>\n",
       "      <td>0</td>\n",
       "      <td>0</td>\n",
       "    </tr>\n",
       "  </tbody>\n",
       "</table>\n",
       "</div>"
      ],
      "text/plain": [
       "   id      game                                             review  \\\n",
       "0   1  Among Us  This game can suck my balls before I play it a...   \n",
       "1   2  Among Us  Very fun little party game! Even better with f...   \n",
       "2   3  Among Us  if you're lonely don't bother but if you're no...   \n",
       "3   4  Among Us                                   fun and anoyying   \n",
       "4   5  Among Us                            when impostor is sus...   \n",
       "\n",
       "   author_playtime_at_review  voted_up  votes_up  votes_funny  constructive  \n",
       "0                          6     False         1            0             0  \n",
       "1                         11      True         0            0             1  \n",
       "2                         40      True         2            1             0  \n",
       "3                         80      True         0            0             0  \n",
       "4                         51      True         0            0             0  "
      ]
     },
     "execution_count": 11,
     "metadata": {},
     "output_type": "execute_result"
    }
   ],
   "source": [
    "import pandas as pd\n",
    "\n",
    "filepath = 'steam_reviews_constructiveness.csv'\n",
    "\n",
    "data = pd.read_csv(filepath)"
   ]
  },
  {
   "cell_type": "code",
   "execution_count": 12,
   "metadata": {},
   "outputs": [
    {
     "data": {
      "text/plain": [
       "0"
      ]
     },
     "execution_count": 12,
     "metadata": {},
     "output_type": "execute_result"
    }
   ],
   "source": [
    "data.duplicated().sum()"
   ]
  },
  {
   "cell_type": "markdown",
   "metadata": {},
   "source": [
    "### 1. Descriptive Statistics"
   ]
  },
  {
   "cell_type": "code",
   "execution_count": 10,
   "metadata": {},
   "outputs": [
    {
     "data": {
      "text/html": [
       "<div>\n",
       "<style scoped>\n",
       "    .dataframe tbody tr th:only-of-type {\n",
       "        vertical-align: middle;\n",
       "    }\n",
       "\n",
       "    .dataframe tbody tr th {\n",
       "        vertical-align: top;\n",
       "    }\n",
       "\n",
       "    .dataframe thead th {\n",
       "        text-align: right;\n",
       "    }\n",
       "</style>\n",
       "<table border=\"1\" class=\"dataframe\">\n",
       "  <thead>\n",
       "    <tr style=\"text-align: right;\">\n",
       "      <th></th>\n",
       "      <th>id</th>\n",
       "      <th>author_playtime_at_review</th>\n",
       "      <th>votes_up</th>\n",
       "      <th>votes_funny</th>\n",
       "      <th>constructive</th>\n",
       "    </tr>\n",
       "  </thead>\n",
       "  <tbody>\n",
       "    <tr>\n",
       "      <th>count</th>\n",
       "      <td>1461.000000</td>\n",
       "      <td>1461.000000</td>\n",
       "      <td>1461.000000</td>\n",
       "      <td>1461.000000</td>\n",
       "      <td>1461.000000</td>\n",
       "    </tr>\n",
       "    <tr>\n",
       "      <th>mean</th>\n",
       "      <td>731.000000</td>\n",
       "      <td>261.253936</td>\n",
       "      <td>0.706366</td>\n",
       "      <td>0.273101</td>\n",
       "      <td>0.369610</td>\n",
       "    </tr>\n",
       "    <tr>\n",
       "      <th>std</th>\n",
       "      <td>421.898685</td>\n",
       "      <td>517.550995</td>\n",
       "      <td>4.283053</td>\n",
       "      <td>2.461210</td>\n",
       "      <td>0.482864</td>\n",
       "    </tr>\n",
       "    <tr>\n",
       "      <th>min</th>\n",
       "      <td>1.000000</td>\n",
       "      <td>0.000000</td>\n",
       "      <td>0.000000</td>\n",
       "      <td>0.000000</td>\n",
       "      <td>0.000000</td>\n",
       "    </tr>\n",
       "    <tr>\n",
       "      <th>25%</th>\n",
       "      <td>366.000000</td>\n",
       "      <td>17.000000</td>\n",
       "      <td>0.000000</td>\n",
       "      <td>0.000000</td>\n",
       "      <td>0.000000</td>\n",
       "    </tr>\n",
       "    <tr>\n",
       "      <th>50%</th>\n",
       "      <td>731.000000</td>\n",
       "      <td>71.000000</td>\n",
       "      <td>0.000000</td>\n",
       "      <td>0.000000</td>\n",
       "      <td>0.000000</td>\n",
       "    </tr>\n",
       "    <tr>\n",
       "      <th>75%</th>\n",
       "      <td>1096.000000</td>\n",
       "      <td>258.000000</td>\n",
       "      <td>1.000000</td>\n",
       "      <td>0.000000</td>\n",
       "      <td>1.000000</td>\n",
       "    </tr>\n",
       "    <tr>\n",
       "      <th>max</th>\n",
       "      <td>1461.000000</td>\n",
       "      <td>4936.000000</td>\n",
       "      <td>104.000000</td>\n",
       "      <td>76.000000</td>\n",
       "      <td>1.000000</td>\n",
       "    </tr>\n",
       "  </tbody>\n",
       "</table>\n",
       "</div>"
      ],
      "text/plain": [
       "                id  author_playtime_at_review     votes_up  votes_funny  \\\n",
       "count  1461.000000                1461.000000  1461.000000  1461.000000   \n",
       "mean    731.000000                 261.253936     0.706366     0.273101   \n",
       "std     421.898685                 517.550995     4.283053     2.461210   \n",
       "min       1.000000                   0.000000     0.000000     0.000000   \n",
       "25%     366.000000                  17.000000     0.000000     0.000000   \n",
       "50%     731.000000                  71.000000     0.000000     0.000000   \n",
       "75%    1096.000000                 258.000000     1.000000     0.000000   \n",
       "max    1461.000000                4936.000000   104.000000    76.000000   \n",
       "\n",
       "       constructive  \n",
       "count   1461.000000  \n",
       "mean       0.369610  \n",
       "std        0.482864  \n",
       "min        0.000000  \n",
       "25%        0.000000  \n",
       "50%        0.000000  \n",
       "75%        1.000000  \n",
       "max        1.000000  "
      ]
     },
     "execution_count": 10,
     "metadata": {},
     "output_type": "execute_result"
    }
   ],
   "source": [
    "data.describe()"
   ]
  },
  {
   "cell_type": "markdown",
   "metadata": {},
   "source": [
    "### 2. Distribution Analysis"
   ]
  },
  {
   "cell_type": "code",
   "execution_count": 19,
   "metadata": {},
   "outputs": [
    {
     "name": "stderr",
     "output_type": "stream",
     "text": [
      "c:\\Users\\User\\anaconda3\\Lib\\site-packages\\seaborn\\_oldcore.py:1119: FutureWarning: use_inf_as_na option is deprecated and will be removed in a future version. Convert inf values to NaN before operating instead.\n",
      "  with pd.option_context('mode.use_inf_as_na', True):\n"
     ]
    },
    {
     "data": {
      "image/png": "[encoded data removed]",
      "text/plain": [
       "<Figure size 576x360 with 1 Axes>"
      ]
     },
     "metadata": {
      "needs_background": "light"
     },
     "output_type": "display_data"
    },
    {
     "name": "stderr",
     "output_type": "stream",
     "text": [
      "c:\\Users\\User\\anaconda3\\Lib\\site-packages\\seaborn\\_oldcore.py:1119: FutureWarning: use_inf_as_na option is deprecated and will be removed in a future version. Convert inf values to NaN before operating instead.\n",
      "  with pd.option_context('mode.use_inf_as_na', True):\n"
     ]
    },
    {
     "data": {
      "image/png": "[encoded data removed]",
      "text/plain": [
       "<Figure size 576x360 with 1 Axes>"
      ]
     },
     "metadata": {
      "needs_background": "light"
     },
     "output_type": "display_data"
    },
    {
     "name": "stderr",
     "output_type": "stream",
     "text": [
      "c:\\Users\\User\\anaconda3\\Lib\\site-packages\\seaborn\\_oldcore.py:1119: FutureWarning: use_inf_as_na option is deprecated and will be removed in a future version. Convert inf values to NaN before operating instead.\n",
      "  with pd.option_context('mode.use_inf_as_na', True):\n"
     ]
    },
    {
     "data": {
      "image/png": "[encoded data removed]",
      "text/plain": [
       "<Figure size 576x360 with 1 Axes>"
      ]
     },
     "metadata": {
      "needs_background": "light"
     },
     "output_type": "display_data"
    }
   ],
   "source": [
    "import matplotlib.pyplot as plt\n",
    "import seaborn as sns\n",
    "\n",
    "# Histogram for playtime\n",
    "plt.figure(figsize=(8, 5))\n",
    "sns.histplot(data['author_playtime_at_review'], bins=30, kde=True)\n",
    "plt.title('Distribution of Playtime at Review')\n",
    "plt.xlabel('Playtime (hours)')\n",
    "plt.ylabel('Frequency')\n",
    "plt.xlim(0, 2000)\n",
    "plt.show()\n",
    "\n",
    "# Histogram for votes_up\n",
    "plt.figure(figsize=(8, 5))\n",
    "sns.histplot(data['votes_up'], bins=30, kde=True)\n",
    "plt.title('Distribution of Upvotes')\n",
    "plt.xlabel('Upvotes')\n",
    "plt.ylabel('Frequency')\n",
    "plt.xlim(0, 40)\n",
    "plt.show()\n",
    "\n",
    "# Histogram for votes_funny\n",
    "plt.figure(figsize=(8, 5))\n",
    "sns.histplot(data['votes_funny'], bins=30, kde=True)\n",
    "plt.title('Distribution of Funny Votes')\n",
    "plt.xlabel('Funny Votes')\n",
    "plt.ylabel('Frequency')\n",
    "plt.xlim(0, 10)\n",
    "plt.show()"
   ]
  },
  {
   "cell_type": "code",
   "execution_count": 26,
   "metadata": {},
   "outputs": [
    {
     "data": {
      "image/png": "[encoded data removed]",
      "text/plain": [
       "<Figure size 576x360 with 1 Axes>"
      ]
     },
     "metadata": {
      "needs_background": "light"
     },
     "output_type": "display_data"
    }
   ],
   "source": [
    "# Bar plot for voted_up\n",
    "plt.figure(figsize=(8, 5))\n",
    "ax = sns.countplot(x='voted_up', data=data)\n",
    "plt.title('Proportion of Positive vs. Negative Reviews')\n",
    "plt.xlabel('Voted Up (True=Positive, False=Negative)')\n",
    "plt.ylabel('Count')\n",
    "\n",
    "for p in ax.patches:\n",
    "    ax.annotate(f'{int(p.get_height())}', \n",
    "                (p.get_x() + p.get_width() / 2., p.get_height()), \n",
    "                ha='center', va='bottom', \n",
    "                fontsize=10)\n"
   ]
  },
  {
   "cell_type": "markdown",
   "metadata": {},
   "source": [
    "### 3. Correlation Analysis"
   ]
  },
  {
   "cell_type": "code",
   "execution_count": 27,
   "metadata": {},
   "outputs": [
    {
     "data": {
      "image/png": "[encoded data removed]",
      "text/plain": [
       "<Figure size 576x432 with 2 Axes>"
      ]
     },
     "metadata": {
      "needs_background": "light"
     },
     "output_type": "display_data"
    }
   ],
   "source": [
    "correlation_matrix = data[['author_playtime_at_review', 'votes_up', 'votes_funny', 'constructive']].corr()\n",
    "\n",
    "# Heatmap of correlations\n",
    "plt.figure(figsize=(8, 6))\n",
    "sns.heatmap(correlation_matrix, annot=True, cmap='coolwarm', center=0)\n",
    "plt.title('Correlation Matrix')\n",
    "plt.show()\n"
   ]
  },
  {
   "cell_type": "markdown",
   "metadata": {},
   "source": [
    "### 4. Visualization of Relationships"
   ]
  },
  {
   "cell_type": "code",
   "execution_count": 35,
   "metadata": {},
   "outputs": [
    {
     "data": {
      "image/png": "[encoded data removed]",
      "text/plain": [
       "<Figure size 576x360 with 1 Axes>"
      ]
     },
     "metadata": {
      "needs_background": "light"
     },
     "output_type": "display_data"
    }
   ],
   "source": [
    "# Scatter plot of playtime vs. upvotes\n",
    "plt.figure(figsize=(8, 5))\n",
    "sns.scatterplot(x='author_playtime_at_review', y='votes_up', data=data)\n",
    "plt.title('Playtime at Review vs. Upvotes')\n",
    "plt.xlabel('Playtime (hours)')\n",
    "plt.ylabel('Upvotes')\n",
    "plt.xlim(0, 2500)\n",
    "plt.ylim(0, 50)\n",
    "plt.show()"
   ]
  },
  {
   "cell_type": "code",
   "execution_count": 39,
   "metadata": {},
   "outputs": [
    {
     "data": {
      "image/png": "[encoded data removed]",
      "text/plain": [
       "<Figure size 576x360 with 1 Axes>"
      ]
     },
     "metadata": {
      "needs_background": "light"
     },
     "output_type": "display_data"
    }
   ],
   "source": [
    "# Box plot for votes_up based on constructive reviews\n",
    "plt.figure(figsize=(8, 5))\n",
    "sns.boxplot(x='constructive', y='votes_up', data=data)\n",
    "plt.title('Upvotes by Constructiveness')\n",
    "plt.xlabel('Constructive Review (0 = No, 1 = Yes)')\n",
    "plt.ylabel('Upvotes')\n",
    "plt.ylim(0, 25)\n",
    "plt.show()\n"
   ]
  },
  {
   "cell_type": "markdown",
   "metadata": {},
   "source": [
    "### 4. Feature Engineering\n",
    "Feature engineering involves creating new features based on existing data that could improve our understanding or predictive capabilities.\n"
   ]
  },
  {
   "cell_type": "code",
   "execution_count": 42,
   "metadata": {},
   "outputs": [
    {
     "data": {
      "text/html": [
       "<div>\n",
       "<style scoped>\n",
       "    .dataframe tbody tr th:only-of-type {\n",
       "        vertical-align: middle;\n",
       "    }\n",
       "\n",
       "    .dataframe tbody tr th {\n",
       "        vertical-align: top;\n",
       "    }\n",
       "\n",
       "    .dataframe thead th {\n",
       "        text-align: right;\n",
       "    }\n",
       "</style>\n",
       "<table border=\"1\" class=\"dataframe\">\n",
       "  <thead>\n",
       "    <tr style=\"text-align: right;\">\n",
       "      <th></th>\n",
       "      <th>id</th>\n",
       "      <th>game</th>\n",
       "      <th>review</th>\n",
       "      <th>author_playtime_at_review</th>\n",
       "      <th>voted_up</th>\n",
       "      <th>votes_up</th>\n",
       "      <th>votes_funny</th>\n",
       "      <th>constructive</th>\n",
       "      <th>playtime_category</th>\n",
       "    </tr>\n",
       "  </thead>\n",
       "  <tbody>\n",
       "    <tr>\n",
       "      <th>0</th>\n",
       "      <td>1</td>\n",
       "      <td>Among Us</td>\n",
       "      <td>This game can suck my balls before I play it a...</td>\n",
       "      <td>6</td>\n",
       "      <td>False</td>\n",
       "      <td>1</td>\n",
       "      <td>0</td>\n",
       "      <td>0</td>\n",
       "      <td>Low Playtime</td>\n",
       "    </tr>\n",
       "    <tr>\n",
       "      <th>1</th>\n",
       "      <td>2</td>\n",
       "      <td>Among Us</td>\n",
       "      <td>Very fun little party game! Even better with f...</td>\n",
       "      <td>11</td>\n",
       "      <td>True</td>\n",
       "      <td>0</td>\n",
       "      <td>0</td>\n",
       "      <td>1</td>\n",
       "      <td>Medium Playtime</td>\n",
       "    </tr>\n",
       "    <tr>\n",
       "      <th>2</th>\n",
       "      <td>3</td>\n",
       "      <td>Among Us</td>\n",
       "      <td>if you're lonely don't bother but if you're no...</td>\n",
       "      <td>40</td>\n",
       "      <td>True</td>\n",
       "      <td>2</td>\n",
       "      <td>1</td>\n",
       "      <td>0</td>\n",
       "      <td>Medium Playtime</td>\n",
       "    </tr>\n",
       "    <tr>\n",
       "      <th>3</th>\n",
       "      <td>4</td>\n",
       "      <td>Among Us</td>\n",
       "      <td>fun and anoyying</td>\n",
       "      <td>80</td>\n",
       "      <td>True</td>\n",
       "      <td>0</td>\n",
       "      <td>0</td>\n",
       "      <td>0</td>\n",
       "      <td>High Playtime</td>\n",
       "    </tr>\n",
       "    <tr>\n",
       "      <th>4</th>\n",
       "      <td>5</td>\n",
       "      <td>Among Us</td>\n",
       "      <td>when impostor is sus...</td>\n",
       "      <td>51</td>\n",
       "      <td>True</td>\n",
       "      <td>0</td>\n",
       "      <td>0</td>\n",
       "      <td>0</td>\n",
       "      <td>High Playtime</td>\n",
       "    </tr>\n",
       "  </tbody>\n",
       "</table>\n",
       "</div>"
      ],
      "text/plain": [
       "   id      game                                             review  \\\n",
       "0   1  Among Us  This game can suck my balls before I play it a...   \n",
       "1   2  Among Us  Very fun little party game! Even better with f...   \n",
       "2   3  Among Us  if you're lonely don't bother but if you're no...   \n",
       "3   4  Among Us                                   fun and anoyying   \n",
       "4   5  Among Us                            when impostor is sus...   \n",
       "\n",
       "   author_playtime_at_review  voted_up  votes_up  votes_funny  constructive  \\\n",
       "0                          6     False         1            0             0   \n",
       "1                         11      True         0            0             1   \n",
       "2                         40      True         2            1             0   \n",
       "3                         80      True         0            0             0   \n",
       "4                         51      True         0            0             0   \n",
       "\n",
       "  playtime_category  \n",
       "0      Low Playtime  \n",
       "1   Medium Playtime  \n",
       "2   Medium Playtime  \n",
       "3     High Playtime  \n",
       "4     High Playtime  "
      ]
     },
     "execution_count": 42,
     "metadata": {},
     "output_type": "execute_result"
    }
   ],
   "source": [
    "# Categorizing playtime\n",
    "conditions = [\n",
    "    (data['author_playtime_at_review'] <= 10),\n",
    "    (data['author_playtime_at_review'] > 10) & (data['author_playtime_at_review'] <= 50),\n",
    "    (data['author_playtime_at_review'] > 50)\n",
    "]\n",
    "labels = ['Low Playtime', 'Medium Playtime', 'High Playtime']\n",
    "data['playtime_category'] = pd.cut(data['author_playtime_at_review'], \n",
    "                                           bins=[0, 10, 50, data['author_playtime_at_review'].max()],\n",
    "                                           labels=labels, right=False)\n",
    "\n",
    "data.head()"
   ]
  },
  {
   "cell_type": "code",
   "execution_count": 45,
   "metadata": {},
   "outputs": [
    {
     "data": {
      "text/html": [
       "<div>\n",
       "<style scoped>\n",
       "    .dataframe tbody tr th:only-of-type {\n",
       "        vertical-align: middle;\n",
       "    }\n",
       "\n",
       "    .dataframe tbody tr th {\n",
       "        vertical-align: top;\n",
       "    }\n",
       "\n",
       "    .dataframe thead th {\n",
       "        text-align: right;\n",
       "    }\n",
       "</style>\n",
       "<table border=\"1\" class=\"dataframe\">\n",
       "  <thead>\n",
       "    <tr style=\"text-align: right;\">\n",
       "      <th></th>\n",
       "      <th>id</th>\n",
       "      <th>game</th>\n",
       "      <th>review</th>\n",
       "      <th>author_playtime_at_review</th>\n",
       "      <th>voted_up</th>\n",
       "      <th>votes_up</th>\n",
       "      <th>votes_funny</th>\n",
       "      <th>constructive</th>\n",
       "      <th>playtime_category</th>\n",
       "      <th>total_votes</th>\n",
       "    </tr>\n",
       "  </thead>\n",
       "  <tbody>\n",
       "    <tr>\n",
       "      <th>0</th>\n",
       "      <td>1</td>\n",
       "      <td>Among Us</td>\n",
       "      <td>This game can suck my balls before I play it a...</td>\n",
       "      <td>6</td>\n",
       "      <td>False</td>\n",
       "      <td>1</td>\n",
       "      <td>0</td>\n",
       "      <td>0</td>\n",
       "      <td>Low Playtime</td>\n",
       "      <td>1</td>\n",
       "    </tr>\n",
       "    <tr>\n",
       "      <th>1</th>\n",
       "      <td>2</td>\n",
       "      <td>Among Us</td>\n",
       "      <td>Very fun little party game! Even better with f...</td>\n",
       "      <td>11</td>\n",
       "      <td>True</td>\n",
       "      <td>0</td>\n",
       "      <td>0</td>\n",
       "      <td>1</td>\n",
       "      <td>Medium Playtime</td>\n",
       "      <td>0</td>\n",
       "    </tr>\n",
       "    <tr>\n",
       "      <th>2</th>\n",
       "      <td>3</td>\n",
       "      <td>Among Us</td>\n",
       "      <td>if you're lonely don't bother but if you're no...</td>\n",
       "      <td>40</td>\n",
       "      <td>True</td>\n",
       "      <td>2</td>\n",
       "      <td>1</td>\n",
       "      <td>0</td>\n",
       "      <td>Medium Playtime</td>\n",
       "      <td>3</td>\n",
       "    </tr>\n",
       "    <tr>\n",
       "      <th>3</th>\n",
       "      <td>4</td>\n",
       "      <td>Among Us</td>\n",
       "      <td>fun and anoyying</td>\n",
       "      <td>80</td>\n",
       "      <td>True</td>\n",
       "      <td>0</td>\n",
       "      <td>0</td>\n",
       "      <td>0</td>\n",
       "      <td>High Playtime</td>\n",
       "      <td>0</td>\n",
       "    </tr>\n",
       "    <tr>\n",
       "      <th>4</th>\n",
       "      <td>5</td>\n",
       "      <td>Among Us</td>\n",
       "      <td>when impostor is sus...</td>\n",
       "      <td>51</td>\n",
       "      <td>True</td>\n",
       "      <td>0</td>\n",
       "      <td>0</td>\n",
       "      <td>0</td>\n",
       "      <td>High Playtime</td>\n",
       "      <td>0</td>\n",
       "    </tr>\n",
       "  </tbody>\n",
       "</table>\n",
       "</div>"
      ],
      "text/plain": [
       "   id      game                                             review  \\\n",
       "0   1  Among Us  This game can suck my balls before I play it a...   \n",
       "1   2  Among Us  Very fun little party game! Even better with f...   \n",
       "2   3  Among Us  if you're lonely don't bother but if you're no...   \n",
       "3   4  Among Us                                   fun and anoyying   \n",
       "4   5  Among Us                            when impostor is sus...   \n",
       "\n",
       "   author_playtime_at_review  voted_up  votes_up  votes_funny  constructive  \\\n",
       "0                          6     False         1            0             0   \n",
       "1                         11      True         0            0             1   \n",
       "2                         40      True         2            1             0   \n",
       "3                         80      True         0            0             0   \n",
       "4                         51      True         0            0             0   \n",
       "\n",
       "  playtime_category  total_votes  \n",
       "0      Low Playtime            1  \n",
       "1   Medium Playtime            0  \n",
       "2   Medium Playtime            3  \n",
       "3     High Playtime            0  \n",
       "4     High Playtime            0  "
      ]
     },
     "execution_count": 45,
     "metadata": {},
     "output_type": "execute_result"
    }
   ],
   "source": [
    "# Create total_votes feature\n",
    "data['total_votes'] = data['votes_up'] + data['votes_funny']\n",
    "data.head()"
   ]
  },
  {
   "cell_type": "code",
   "execution_count": 47,
   "metadata": {},
   "outputs": [
    {
     "data": {
      "text/html": [
       "<div>\n",
       "<style scoped>\n",
       "    .dataframe tbody tr th:only-of-type {\n",
       "        vertical-align: middle;\n",
       "    }\n",
       "\n",
       "    .dataframe tbody tr th {\n",
       "        vertical-align: top;\n",
       "    }\n",
       "\n",
       "    .dataframe thead th {\n",
       "        text-align: right;\n",
       "    }\n",
       "</style>\n",
       "<table border=\"1\" class=\"dataframe\">\n",
       "  <thead>\n",
       "    <tr style=\"text-align: right;\">\n",
       "      <th></th>\n",
       "      <th>id</th>\n",
       "      <th>game</th>\n",
       "      <th>review</th>\n",
       "      <th>author_playtime_at_review</th>\n",
       "      <th>voted_up</th>\n",
       "      <th>votes_up</th>\n",
       "      <th>votes_funny</th>\n",
       "      <th>constructive</th>\n",
       "      <th>playtime_category</th>\n",
       "      <th>total_votes</th>\n",
       "      <th>review_length</th>\n",
       "    </tr>\n",
       "  </thead>\n",
       "  <tbody>\n",
       "    <tr>\n",
       "      <th>0</th>\n",
       "      <td>1</td>\n",
       "      <td>Among Us</td>\n",
       "      <td>This game can suck my balls before I play it a...</td>\n",
       "      <td>6</td>\n",
       "      <td>False</td>\n",
       "      <td>1</td>\n",
       "      <td>0</td>\n",
       "      <td>0</td>\n",
       "      <td>Low Playtime</td>\n",
       "      <td>1</td>\n",
       "      <td>92</td>\n",
       "    </tr>\n",
       "    <tr>\n",
       "      <th>1</th>\n",
       "      <td>2</td>\n",
       "      <td>Among Us</td>\n",
       "      <td>Very fun little party game! Even better with f...</td>\n",
       "      <td>11</td>\n",
       "      <td>True</td>\n",
       "      <td>0</td>\n",
       "      <td>0</td>\n",
       "      <td>1</td>\n",
       "      <td>Medium Playtime</td>\n",
       "      <td>0</td>\n",
       "      <td>99</td>\n",
       "    </tr>\n",
       "    <tr>\n",
       "      <th>2</th>\n",
       "      <td>3</td>\n",
       "      <td>Among Us</td>\n",
       "      <td>if you're lonely don't bother but if you're no...</td>\n",
       "      <td>40</td>\n",
       "      <td>True</td>\n",
       "      <td>2</td>\n",
       "      <td>1</td>\n",
       "      <td>0</td>\n",
       "      <td>Medium Playtime</td>\n",
       "      <td>3</td>\n",
       "      <td>98</td>\n",
       "    </tr>\n",
       "    <tr>\n",
       "      <th>3</th>\n",
       "      <td>4</td>\n",
       "      <td>Among Us</td>\n",
       "      <td>fun and anoyying</td>\n",
       "      <td>80</td>\n",
       "      <td>True</td>\n",
       "      <td>0</td>\n",
       "      <td>0</td>\n",
       "      <td>0</td>\n",
       "      <td>High Playtime</td>\n",
       "      <td>0</td>\n",
       "      <td>16</td>\n",
       "    </tr>\n",
       "    <tr>\n",
       "      <th>4</th>\n",
       "      <td>5</td>\n",
       "      <td>Among Us</td>\n",
       "      <td>when impostor is sus...</td>\n",
       "      <td>51</td>\n",
       "      <td>True</td>\n",
       "      <td>0</td>\n",
       "      <td>0</td>\n",
       "      <td>0</td>\n",
       "      <td>High Playtime</td>\n",
       "      <td>0</td>\n",
       "      <td>23</td>\n",
       "    </tr>\n",
       "  </tbody>\n",
       "</table>\n",
       "</div>"
      ],
      "text/plain": [
       "   id      game                                             review  \\\n",
       "0   1  Among Us  This game can suck my balls before I play it a...   \n",
       "1   2  Among Us  Very fun little party game! Even better with f...   \n",
       "2   3  Among Us  if you're lonely don't bother but if you're no...   \n",
       "3   4  Among Us                                   fun and anoyying   \n",
       "4   5  Among Us                            when impostor is sus...   \n",
       "\n",
       "   author_playtime_at_review  voted_up  votes_up  votes_funny  constructive  \\\n",
       "0                          6     False         1            0             0   \n",
       "1                         11      True         0            0             1   \n",
       "2                         40      True         2            1             0   \n",
       "3                         80      True         0            0             0   \n",
       "4                         51      True         0            0             0   \n",
       "\n",
       "  playtime_category  total_votes  review_length  \n",
       "0      Low Playtime            1             92  \n",
       "1   Medium Playtime            0             99  \n",
       "2   Medium Playtime            3             98  \n",
       "3     High Playtime            0             16  \n",
       "4     High Playtime            0             23  "
      ]
     },
     "execution_count": 47,
     "metadata": {},
     "output_type": "execute_result"
    }
   ],
   "source": [
    "# Length of review text\n",
    "data['review_length'] = data['review'].apply(len)\n",
    "data.head()"
   ]
  },
  {
   "cell_type": "markdown",
   "metadata": {},
   "source": [
    "## 5. Sensitivity Analysis\n",
    "\n",
    "Sensitivity analysis involves understanding how the variation in different features impacts the outcome\n",
    "\n",
    "We'll use a simple model like a decision tree or random forest to understand feature importance.\n",
    "\n"
   ]
  },
  {
   "cell_type": "code",
   "execution_count": 56,
   "metadata": {},
   "outputs": [
    {
     "name": "stdout",
     "output_type": "stream",
     "text": [
      "                           importance\n",
      "review_length                0.606938\n",
      "author_playtime_at_review    0.292790\n",
      "votes_up                     0.047774\n",
      "votes_funny                  0.032795\n",
      "playtime_category_encoded    0.019704\n"
     ]
    },
    {
     "data": {
      "image/png": "[encoded data removed]",
      "text/plain": [
       "<Figure size 720x432 with 1 Axes>"
      ]
     },
     "metadata": {
      "needs_background": "light"
     },
     "output_type": "display_data"
    }
   ],
   "source": [
    "# Variable Importance\n",
    "\n",
    "from sklearn.ensemble import RandomForestClassifier\n",
    "from sklearn.model_selection import train_test_split\n",
    "from sklearn.preprocessing import LabelEncoder\n",
    "\n",
    "label_encoder = LabelEncoder()\n",
    "data['playtime_category_encoded'] = label_encoder.fit_transform(data['playtime_category'].astype(str))\n",
    "\n",
    "X = data[['author_playtime_at_review', 'votes_up', 'votes_funny', 'review_length', 'playtime_category_encoded']]\n",
    "y = data['constructive']\n",
    "\n",
    "X_train, X_test, y_train, y_test = train_test_split(X, y, test_size=0.2, random_state=42)\n",
    "\n",
    "rf_model = RandomForestClassifier(random_state=42)\n",
    "rf_model.fit(X_train, y_train)\n",
    "\n",
    "feature_importances = pd.DataFrame(rf_model.feature_importances_, index=X.columns, columns=['importance']).sort_values('importance', ascending=False)\n",
    "print(feature_importances)\n",
    "\n",
    "# Visualize Importance\n",
    "plt.figure(figsize=(10, 6))\n",
    "sns.barplot(x=feature_importances['importance'], y=feature_importances.index)\n",
    "plt.title('Feature Importances from Random Forest Model')\n",
    "plt.xlabel('Importance')\n",
    "plt.ylabel('Features')\n",
    "plt.show()"
   ]
  },
  {
   "cell_type": "code",
   "execution_count": 55,
   "metadata": {},
   "outputs": [
    {
     "name": "stdout",
     "output_type": "stream",
     "text": [
      "   playtime  votes_up  prediction\n",
      "0        10         0         0.0\n",
      "1        20         5         1.0\n",
      "2        50        10         1.0\n",
      "3        80        15         1.0\n"
     ]
    }
   ],
   "source": [
    "# Scenario Analysis\n",
    "# Example scenario analysis\n",
    "\n",
    "# Create a DataFrame for different scenarios\n",
    "scenarios = pd.DataFrame({\n",
    "    'playtime': [10, 20, 50, 80],\n",
    "    'votes_up': [0, 5, 10, 15]\n",
    "})\n",
    "\n",
    "# Predict constructiveness for different scenarios\n",
    "for index, row in scenarios.iterrows():\n",
    "    test_row = pd.DataFrame({\n",
    "        'author_playtime_at_review': [row['playtime']],\n",
    "        'votes_up': [row['votes_up']],\n",
    "        'votes_funny': [0],  # assuming no funny votes for simplicity\n",
    "        'review_length': [50],  # average review length\n",
    "        'playtime_category_encoded': [label_encoder.transform(['Low Playtime'])[0]]  # encoding\n",
    "    })\n",
    "\n",
    "    prediction = rf_model.predict(test_row)\n",
    "    scenarios.loc[index, 'prediction'] = prediction[0]\n",
    "\n",
    "print(scenarios)"
   ]
  },
  {
   "cell_type": "markdown",
   "metadata": {},
   "source": [
    "## 6. Sentiment Analysis of Reviews\n",
    "\n",
    "Additionally, we can perform a sentiment analysis on the reviews themselves. We can use libraries like TextBlob or VADER to determine the sentiment of each review."
   ]
  },
  {
   "cell_type": "code",
   "execution_count": 58,
   "metadata": {},
   "outputs": [
    {
     "name": "stdout",
     "output_type": "stream",
     "text": [
      "                                              review  sentiment\n",
      "0  This game can suck my balls before I play it a...    -0.5000\n",
      "1  Very fun little party game! Even better with f...    -0.0345\n",
      "2  if you're lonely don't bother but if you're no...     0.3000\n",
      "3                                   fun and anoyying     0.3000\n",
      "4                            when impostor is sus...     0.0000\n"
     ]
    }
   ],
   "source": [
    "from textblob import TextBlob\n",
    "\n",
    "def get_sentiment(review):\n",
    "    analysis = TextBlob(review)\n",
    "    return analysis.sentiment.polarity  # Returns a value between -1 (negative) and 1 (positive)\n",
    "\n",
    "data['sentiment'] = data['review'].apply(get_sentiment)\n",
    "print(data[['review', 'sentiment']].head())\n"
   ]
  },
  {
   "cell_type": "code",
   "execution_count": 59,
   "metadata": {},
   "outputs": [
    {
     "name": "stderr",
     "output_type": "stream",
     "text": [
      "c:\\Users\\User\\anaconda3\\Lib\\site-packages\\seaborn\\_oldcore.py:1119: FutureWarning: use_inf_as_na option is deprecated and will be removed in a future version. Convert inf values to NaN before operating instead.\n",
      "  with pd.option_context('mode.use_inf_as_na', True):\n"
     ]
    },
    {
     "data": {
      "image/png": "[encoded data removed]",
      "text/plain": [
       "<Figure size 576x360 with 1 Axes>"
      ]
     },
     "metadata": {
      "needs_background": "light"
     },
     "output_type": "display_data"
    }
   ],
   "source": [
    "# Histogram of sentiment scores\n",
    "plt.figure(figsize=(8, 5))\n",
    "sns.histplot(data['sentiment'], bins=30, kde=True)\n",
    "plt.title('Sentiment Score Distribution of Reviews')\n",
    "plt.xlabel('Sentiment Score')\n",
    "plt.ylabel('Frequency')\n",
    "plt.show()\n"
   ]
  },
  {
   "cell_type": "code",
   "execution_count": 60,
   "metadata": {},
   "outputs": [
    {
     "name": "stdout",
     "output_type": "stream",
     "text": [
      "                             game  average_sentiment\n",
      "7                 Team Fortress 2           0.162216\n",
      "8                        Terraria           0.151342\n",
      "3                     Garry's Mod           0.105805\n",
      "2                      ELDEN RING           0.084451\n",
      "4              Grand Theft Auto V           0.073848\n",
      "0                        Among Us           0.070441\n",
      "6                            Rust           0.070098\n",
      "1                Counter-Strike 2           0.069788\n",
      "9  Tom Clancy's Rainbow Six Siege           0.035221\n",
      "5             PUBG: BATTLEGROUNDS           0.000478\n"
     ]
    }
   ],
   "source": [
    "# Group the Data by Game\n",
    "\n",
    "game_sentiment = data.groupby('game')['sentiment'].mean().reset_index()\n",
    "game_sentiment.columns = ['game', 'average_sentiment']\n",
    "game_sentiment_sorted = game_sentiment.sort_values(by='average_sentiment', ascending=False)\n",
    "print(game_sentiment_sorted)\n"
   ]
  },
  {
   "cell_type": "code",
   "execution_count": 62,
   "metadata": {},
   "outputs": [
    {
     "data": {
      "image/png": "[encoded data removed]",
      "text/plain": [
       "<Figure size 864x432 with 1 Axes>"
      ]
     },
     "metadata": {
      "needs_background": "light"
     },
     "output_type": "display_data"
    }
   ],
   "source": [
    "# Visualized Top Games with the Best sentiment\n",
    "plt.figure(figsize=(12, 6))\n",
    "sns.barplot(x='average_sentiment', y='game', data=game_sentiment_sorted, palette='viridis')\n",
    "plt.title('Average Sentiment by Game')\n",
    "plt.xlabel('Average Sentiment Score')\n",
    "plt.ylabel('Game')\n",
    "plt.xlim(-.25, .25)\n",
    "plt.show()\n"
   ]
  },
  {
   "cell_type": "code",
   "execution_count": null,
   "metadata": {},
   "outputs": [],
   "source": []
  }
 ],
 "metadata": {
  "kernelspec": {
   "display_name": "base",
   "language": "python",
   "name": "python3"
  },
  "language_info": {
   "codemirror_mode": {
    "name": "ipython",
    "version": 3
   },
   "file_extension": ".py",
   "mimetype": "text/x-python",
   "name": "python",
   "nbconvert_exporter": "python",
   "pygments_lexer": "ipython3",
   "version": "3.11.5"
  }
 },
 "nbformat": 4,
 "nbformat_minor": 2
}
